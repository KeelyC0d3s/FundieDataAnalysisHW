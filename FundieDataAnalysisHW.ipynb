{
 "cells": [
  {
   "cell_type": "markdown",
   "metadata": {},
   "source": [
    "Task 1: \n",
    "Write a Python function called counts that takes a list as\n",
    "input and returns a dictionary of unique items in the list as keys and the number of\n",
    "times each item appears as values. So, the input ['A', 'A', 'B', 'C', 'A']\n",
    "should have output {'A': 3, 'B': 1, 'C': 1} ."
   ]
  },
  {
   "cell_type": "code",
   "execution_count": 7,
   "metadata": {},
   "outputs": [
    {
     "name": "stdout",
     "output_type": "stream",
     "text": [
      "{'A': 3, 'B': 1, 'C': 1}\n"
     ]
    }
   ],
   "source": [
    "#First attempt: using an array and dictionary, for loop, if else statement\n",
    "array = ['A', 'A', 'B', 'C', 'A']\n",
    "dictionary = {}\n",
    "\n",
    "for element in array:\n",
    "    if element in dictionary:\n",
    "        value = dictionary.get(element)\n",
    "        newValue = value + 1\n",
    "        dictionary[element] = newValue\n",
    "    else:\n",
    "        dictionary[element] = 1\n",
    "\n",
    "print(dictionary)"
   ]
  },
  {
   "cell_type": "code",
   "execution_count": 9,
   "metadata": {},
   "outputs": [
    {
     "name": "stdout",
     "output_type": "stream",
     "text": [
      "{'Fiadh': 3, 'Jason': 1, 'Keely': 2}\n"
     ]
    }
   ],
   "source": [
    "#Second attempt: actually creating a function called 'counts', plus dictionary, for loop, if else statement\n",
    "def counts(array):\n",
    "    dictionary = {}\n",
    "\n",
    "    for element in array:\n",
    "        if element in dictionary:\n",
    "            value = dictionary.get(element)\n",
    "            newValue = value + 1\n",
    "            dictionary[element] = newValue\n",
    "        else:\n",
    "            dictionary[element] = 1\n",
    "    return dictionary\n",
    "\n",
    "result = counts([\"Fiadh\",\"Jason\",\"Keely\",\"Fiadh\",\"Keely\",\"Fiadh\"])\n",
    "print(result)"
   ]
  },
  {
   "cell_type": "markdown",
   "metadata": {},
   "source": [
    "Task 2: \n",
    "Write a Python function called dicerolls that simulates\n",
    "rolling dice. Your function should take two parameters: the number of dice k and\n",
    "the number of times to roll the dice n. The function should simulate randomly\n",
    "rolling k dice n times, keeping track of each total face value. It should then return\n",
    "a dictionary with the number of times each possible total face value occurred. "
   ]
  },
  {
   "cell_type": "code",
   "execution_count": 1,
   "metadata": {},
   "outputs": [
    {
     "name": "stdout",
     "output_type": "stream",
     "text": [
      "2\n"
     ]
    }
   ],
   "source": [
    "#Broke down problem to simplest part. Found result of rolling one dice one time.\n",
    "import random\n",
    "\n",
    "def rolldie():\n",
    "    return random.randint(1,6)#Returns a random integer between 1 and 6\n",
    "\n",
    "print(rolldie()) "
   ]
  },
  {
   "cell_type": "code",
   "execution_count": 2,
   "metadata": {},
   "outputs": [
    {
     "name": "stdout",
     "output_type": "stream",
     "text": [
      "6\n"
     ]
    }
   ],
   "source": [
    "#Ran again to check another random number appeared.\n",
    "import random\n",
    "\n",
    "def rolldie():\n",
    "    return random.randint(1,6)\n",
    "\n",
    "print(rolldie()) "
   ]
  },
  {
   "cell_type": "code",
   "execution_count": 4,
   "metadata": {},
   "outputs": [
    {
     "name": "stdout",
     "output_type": "stream",
     "text": [
      "6\n"
     ]
    }
   ],
   "source": [
    "import random\n",
    "\n",
    "def rolldie():\n",
    "    return random.randint(1,6)\n",
    "\n",
    "def rolldice(numdice):\n",
    "    total=0\n",
    "    for x in range(numdice):  #for loop allows you to roll one dice multiple times, in this case twice.\n",
    "        #print(rolldie())\n",
    "        total = total + rolldie()\n",
    "    return total\n",
    "\n",
    "print(rolldice(2)) "
   ]
  },
  {
   "cell_type": "code",
   "execution_count": 5,
   "metadata": {},
   "outputs": [
    {
     "name": "stdout",
     "output_type": "stream",
     "text": [
      "{2: 33, 3: 53, 4: 90, 5: 107, 6: 156, 7: 157, 8: 131, 9: 109, 10: 75, 11: 53, 12: 36}\n"
     ]
    }
   ],
   "source": [
    "def createdict(numdice):\n",
    "    #start = numdice * 1\n",
    "    #end = numdice * 6\n",
    "    #start = 2\n",
    "    #end = 12\n",
    "    #results = {}\n",
    "    #for x in range (numdice, (numdice * 6)+1):\n",
    "        #results[x] = 0\n",
    "    #return results\n",
    "\n",
    "def diceroll(numdice, rolls):\n",
    "    results = createdict(numdice)\n",
    "    for x in range (rolls):\n",
    "        roll = rolldice(numdice)   #roll 2 dice 1000 times\n",
    "        #print(roll)\n",
    "\n",
    "        if roll in results:\n",
    "            value = results.get(roll)\n",
    "            newValue = value + 1\n",
    "            results[roll] = newValue   #keeps track of result of each roll\n",
    "        #else:\n",
    "            #results[roll] = 1\n",
    "    return results\n",
    "\n",
    "\n",
    "print(diceroll(2, 1000))\n",
    "\n"
   ]
  },
  {
   "cell_type": "markdown",
   "metadata": {},
   "source": [
    "Task 3:\n",
    "Write some python code that simulates flipping a coin 100 times. Then run this code 1,000 times, keeping track\n",
    "of the number of heads in each of the 1,000 simulations. Select an appropriate\n",
    "plot to depict the resulting list of 1,000 numbers, showing that it roughly follows\n",
    "a bell-shaped curve. You should explain your work in a Markdown cell above the\n",
    "code. The numpy.random.binomial function can be used to simulate flipping a coin with a 50/50 chance of heads or tails. "
   ]
  },
  {
   "cell_type": "markdown",
   "metadata": {},
   "source": [
    "<span style=\"font-size:16px;\">__Binomial Distribution:__</span>\n",
    "\n",
    "Binomial distribution is a discrete probability distribution of a the number of successes in a sequence of n independent experiments, each asking a yes–no question.\n",
    "\n",
    "The outcome is a Boolean value where success (with probability p) or failure (with probability q = 1 − p).\n",
    "\n",
    "There are three parameters for this distribution:\n",
    "- n - number of trials.\n",
    "- p - probability of occurence of each trial\n",
    "- size - The shape of the returned array.\n",
    "\n",
    "A practical example of the Binomial Distribution function would be a coin toss, where the question would be heads or tails over a certain amount of coin tosses, and the outcome would show how often the result was either heads or tails (or success/failure)."
   ]
  },
  {
   "cell_type": "code",
   "execution_count": 1,
   "metadata": {},
   "outputs": [
    {
     "data": {
      "text/plain": [
       "array([43])"
      ]
     },
     "execution_count": 1,
     "metadata": {},
     "output_type": "execute_result"
    }
   ],
   "source": [
    "import numpy as np\n",
    "\n",
    "#Typical coin has a head and a tail, so there's a 50% chance of getting each in a coin toss\n",
    "#Let's say the probability of heads is 0.5 and for tails is 0.5\n",
    "\n",
    "np.random.binomial(1, 0.5, 1) #array for one coin toss\n",
    "                              #assigning 1 for heads and 0 for tails\n",
    "    \n",
    "#Now let's see how many heads we get when we flip the coin 100 times\n",
    "\n",
    "np.random.binomial(100, 0.5, 1)"
   ]
  },
  {
   "cell_type": "code",
   "execution_count": 3,
   "metadata": {},
   "outputs": [
    {
     "name": "stdout",
     "output_type": "stream",
     "text": [
      "[45 49 57 57 44 41 52 59 52 58 48 42 45 44 50 44 55 47 52 58 48 56 48 52\n",
      " 59 48 53 41 48 53 52 48 49 48 52 48 49 50 53 55 48 60 49 50 59 55 40 52\n",
      " 44 59 56 49 57 46 46 46 53 57 51 56 49 49 47 54 47 43 50 47 47 59 51 50\n",
      " 45 56 51 59 46 47 50 50 42 47 49 37 52 40 50 44 45 46 48 53 56 55 54 44\n",
      " 40 45 50 39 44 55 58 50 49 52 57 53 47 49 60 48 43 54 42 52 51 44 58 50\n",
      " 54 46 50 50 53 50 55 50 52 44 48 46 61 51 45 47 42 44 53 51 56 55 49 47\n",
      " 46 57 52 55 54 55 54 48 50 47 51 53 43 56 50 54 47 50 56 45 44 53 50 51\n",
      " 55 48 47 52 42 51 56 45 56 52 47 50 57 57 43 47 51 50 50 50 44 59 55 43\n",
      " 51 50 49 49 58 54 53 49 51 48 50 58 49 50 46 49 45 37 53 56 43 47 45 51\n",
      " 54 53 46 46 46 54 44 48 55 43 51 52 46 37 55 48 48 48 62 48 48 52 52 56\n",
      " 55 55 52 47 47 49 50 43 48 55 51 55 51 49 51 51 63 51 55 52 50 46 63 42\n",
      " 41 50 50 56 50 46 54 51 58 45 50 44 56 59 53 44 46 42 43 48 42 51 40 43\n",
      " 50 49 40 45 52 42 52 52 44 59 48 51 46 50 49 53 50 50 53 54 51 56 52 55\n",
      " 53 53 46 54 60 61 36 43 48 50 50 50 47 44 50 49 50 53 53 61 51 49 52 53\n",
      " 46 60 49 53 43 48 46 47 46 57 51 54 44 57 43 55 46 53 45 52 54 55 45 50\n",
      " 43 57 51 41 47 52 46 48 50 49 54 44 51 41 53 46 45 53 62 51 50 45 53 46\n",
      " 51 45 48 52 54 44 48 51 55 49 48 66 56 51 52 54 53 52 49 46 57 51 51 58\n",
      " 46 57 58 56 54 42 53 47 42 45 45 47 46 60 48 52 49 44 52 57 48 44 50 40\n",
      " 62 54 52 50 62 60 56 45 48 55 48 47 48 52 52 50 51 43 45 55 59 46 47 50\n",
      " 55 46 49 52 48 55 49 46 40 42 49 36 46 49 43 44 53 51 50 46 56 46 47 48\n",
      " 49 48 54 47 45 44 57 52 51 49 50 49 49 52 51 52 51 50 52 53 52 44 49 44\n",
      " 47 42 42 52 50 55 49 52 46 50 47 48 50 48 46 48 50 52 50 48 50 46 52 49\n",
      " 50 53 60 44 47 46 50 55 58 51 44 50 53 45 49 48 56 43 56 50 57 52 54 54\n",
      " 53 48 49 50 39 51 52 46 47 52 49 52 56 46 46 45 52 45 55 50 44 54 48 48\n",
      " 52 49 56 51 39 42 50 39 48 56 47 54 53 55 52 56 47 52 50 44 53 60 54 53\n",
      " 52 44 56 49 50 47 59 49 48 50 51 59 53 47 53 50 55 55 46 51 52 51 57 47\n",
      " 62 62 53 42 54 52 56 46 39 54 56 52 51 45 52 47 51 51 55 57 56 51 50 47\n",
      " 50 50 57 51 61 49 50 50 49 52 52 45 47 48 47 52 57 54 46 58 47 51 41 56\n",
      " 45 54 46 45 52 48 51 58 55 45 44 53 43 47 52 49 47 48 55 53 51 40 55 51\n",
      " 52 43 57 48 53 59 48 50 45 50 52 44 59 48 47 44 50 45 54 52 42 49 48 58\n",
      " 45 48 59 53 58 50 54 47 47 55 47 44 50 61 45 52 55 49 45 54 51 54 53 45\n",
      " 54 44 45 53 59 55 41 50 53 47 45 59 48 54 51 48 56 40 50 46 51 57 53 50\n",
      " 54 52 55 55 49 38 49 53 50 46 63 47 54 56 51 56 57 51 54 53 53 52 48 49\n",
      " 56 45 43 54 54 47 49 38 51 54 54 51 49 61 50 46 60 55 57 52 38 45 51 53\n",
      " 44 53 46 54 36 50 41 54 57 47 54 49 46 57 52 53 40 55 53 54 52 46 37 54\n",
      " 37 49 44 54 53 55 39 56 51 57 53 41 39 48 52 40 44 58 43 46 50 51 49 46\n",
      " 47 46 46 50 54 53 48 57 53 48 48 55 57 44 58 46 50 49 46 47 49 51 53 43\n",
      " 56 46 56 61 50 47 53 48 45 50 57 53 49 52 58 48 47 57 49 48 48 54 47 57\n",
      " 51 47 52 47 45 44 42 62 56 50 51 49 54 49 51 48 56 61 42 44 52 50 49 52\n",
      " 41 48 44 50 58 40 57 59 52 39 52 51 58 49 47 56 51 48 57 50 51 52 55 49\n",
      " 47 51 44 50 54 47 45 52 44 48 49 48 56 56 44 63 49 55 54 46 68 48 50 46\n",
      " 52 50 53 52 55 53 47 44 48 46 53 44 52 58 62 52]\n"
     ]
    },
    {
     "data": {
      "image/png": "[encoded data removed]",
      "text/plain": [
       "<Figure size 432x288 with 1 Axes>"
      ]
     },
     "metadata": {
      "needs_background": "light"
     },
     "output_type": "display_data"
    }
   ],
   "source": [
    "#use numpy to analyse coin toss\n",
    "import numpy as np\n",
    "\n",
    "#Typical coin has a head and a tail, so there's a 50% chance of getting each in a coin toss\n",
    "#Let's say the probability of heads is 0.5 and for tails is 0.5\n",
    "\n",
    "np.random.binomial(1, 0.5, 1) #array for one coin toss\n",
    "                              #assigning 1 for heads and 0 for tails\n",
    "    \n",
    "#Now let's see how many heads we get when we flip the coin 100 times\n",
    "\n",
    "np.random.binomial(100, 0.5, 1)\n",
    "\n",
    "import matplotlib.pyplot as plt\n",
    "import seaborn as sns\n",
    "\n",
    "results = np.random.binomial(100, 0.5, 1000)\n",
    "print(results)\n",
    "sns.distplot(results)#100 coin tosses, 0.5 probability for heads, repeated 1000 times\n",
    "\n",
    "plt.ylabel(\"% Probability\")\n",
    "plt.title(\"Occurences of Heads in a Coin Toss of 100 Tosses\")\n",
    "plt.xlabel('Number of Coin Tosses')\n",
    "plt.grid(True)\n",
    "plt.show()"
   ]
  },
  {
   "cell_type": "code",
   "execution_count": 4,
   "metadata": {},
   "outputs": [
    {
     "name": "stdout",
     "output_type": "stream",
     "text": [
      "[100 100 100 100 100 100 100 100 100 100 100 100 100 100 100 100 100 100\n",
      " 100 100 100 100 100 100 100 100 100 100 100 100 100 100 100 100 100 100\n",
      " 100 100 100 100 100 100 100 100 100 100 100 100 100 100 100 100 100 100\n",
      " 100 100 100 100 100 100 100 100 100 100 100 100 100 100 100 100 100 100\n",
      " 100 100 100 100 100 100 100 100 100 100 100 100 100 100 100 100 100 100\n",
      " 100 100 100 100 100 100 100 100 100 100 100 100 100 100 100 100 100 100\n",
      " 100 100 100 100 100 100 100 100 100 100 100 100 100 100 100 100 100 100\n",
      " 100 100 100 100 100 100 100 100 100 100 100 100 100 100 100 100 100 100\n",
      " 100 100 100 100 100 100 100 100 100 100 100 100 100 100 100 100 100 100\n",
      " 100 100 100 100 100 100 100 100 100 100 100 100 100 100 100 100 100 100\n",
      " 100 100 100 100 100 100 100 100 100 100 100 100 100 100 100 100 100 100\n",
      " 100 100 100 100 100 100 100 100 100 100 100 100 100 100 100 100 100 100\n",
      " 100 100 100 100 100 100 100 100 100 100 100 100 100 100 100 100 100 100\n",
      " 100 100 100 100 100 100 100 100 100 100 100 100 100 100 100 100 100 100\n",
      " 100 100 100 100 100 100 100 100 100 100 100 100 100 100 100 100 100 100\n",
      " 100 100 100 100 100 100 100 100 100 100 100 100 100 100 100 100 100 100\n",
      " 100 100 100 100 100 100 100 100 100 100 100 100 100 100 100 100 100 100\n",
      " 100 100 100 100 100 100 100 100 100 100 100 100 100 100 100 100 100 100\n",
      " 100 100 100 100 100 100 100 100 100 100 100 100 100 100 100 100 100 100\n",
      " 100 100 100 100 100 100 100 100 100 100 100 100 100 100 100 100 100 100\n",
      " 100 100 100 100 100 100 100 100 100 100 100 100 100 100 100 100 100 100\n",
      " 100 100 100 100 100 100 100 100 100 100 100 100 100 100 100 100 100 100\n",
      " 100 100 100 100 100 100 100 100 100 100 100 100 100 100 100 100 100 100\n",
      " 100 100 100 100 100 100 100 100 100 100 100 100 100 100 100 100 100 100\n",
      " 100 100 100 100 100 100 100 100 100 100 100 100 100 100 100 100 100 100\n",
      " 100 100 100 100 100 100 100 100 100 100 100 100 100 100 100 100 100 100\n",
      " 100 100 100 100 100 100 100 100 100 100 100 100 100 100 100 100 100 100\n",
      " 100 100 100 100 100 100 100 100 100 100 100 100 100 100 100 100 100 100\n",
      " 100 100 100 100 100 100 100 100 100 100 100 100 100 100 100 100 100 100\n",
      " 100 100 100 100 100 100 100 100 100 100 100 100 100 100 100 100 100 100\n",
      " 100 100 100 100 100 100 100 100 100 100 100 100 100 100 100 100 100 100\n",
      " 100 100 100 100 100 100 100 100 100 100 100 100 100 100 100 100 100 100\n",
      " 100 100 100 100 100 100 100 100 100 100 100 100 100 100 100 100 100 100\n",
      " 100 100 100 100 100 100 100 100 100 100 100 100 100 100 100 100 100 100\n",
      " 100 100 100 100 100 100 100 100 100 100 100 100 100 100 100 100 100 100\n",
      " 100 100 100 100 100 100 100 100 100 100 100 100 100 100 100 100 100 100\n",
      " 100 100 100 100 100 100 100 100 100 100 100 100 100 100 100 100 100 100\n",
      " 100 100 100 100 100 100 100 100 100 100 100 100 100 100 100 100 100 100\n",
      " 100 100 100 100 100 100 100 100 100 100 100 100 100 100 100 100 100 100\n",
      " 100 100 100 100 100 100 100 100 100 100 100 100 100 100 100 100 100 100\n",
      " 100 100 100 100 100 100 100 100 100 100 100 100 100 100 100 100 100 100\n",
      " 100 100 100 100 100 100 100 100 100 100 100 100 100 100 100 100 100 100\n",
      " 100 100 100 100 100 100 100 100 100 100 100 100 100 100 100 100 100 100\n",
      " 100 100 100 100 100 100 100 100 100 100 100 100 100 100 100 100 100 100\n",
      " 100 100 100 100 100 100 100 100 100 100 100 100 100 100 100 100 100 100\n",
      " 100 100 100 100 100 100 100 100 100 100 100 100 100 100 100 100 100 100\n",
      " 100 100 100 100 100 100 100 100 100 100 100 100 100 100 100 100 100 100\n",
      " 100 100 100 100 100 100 100 100 100 100 100 100 100 100 100 100 100 100\n",
      " 100 100 100 100 100 100 100 100 100 100 100 100 100 100 100 100 100 100\n",
      " 100 100 100 100 100 100 100 100 100 100 100 100 100 100 100 100 100 100\n",
      " 100 100 100 100 100 100 100 100 100 100 100 100 100 100 100 100 100 100\n",
      " 100 100 100 100 100 100 100 100 100 100 100 100 100 100 100 100 100 100\n",
      " 100 100 100 100 100 100 100 100 100 100 100 100 100 100 100 100 100 100\n",
      " 100 100 100 100 100 100 100 100 100 100 100 100 100 100 100 100 100 100\n",
      " 100 100 100 100 100 100 100 100 100 100 100 100 100 100 100 100 100 100\n",
      " 100 100 100 100 100 100 100 100 100 100]\n"
     ]
    },
    {
     "name": "stderr",
     "output_type": "stream",
     "text": [
      "/Users/keelylacy-osullivan/opt/anaconda3/lib/python3.8/site-packages/seaborn/distributions.py:283: UserWarning: Data must have variance to compute a kernel density estimate.\n",
      "  warnings.warn(msg, UserWarning)\n"
     ]
    },
    {
     "data": {
      "image/png": "[encoded data removed]",
      "text/plain": [
       "<Figure size 432x288 with 1 Axes>"
      ]
     },
     "metadata": {
      "needs_background": "light"
     },
     "output_type": "display_data"
    }
   ],
   "source": [
    "#use numpy to analyse coin toss\n",
    "import numpy as np\n",
    "\n",
    "#An unfair coin has a head OR a tail \n",
    "#So there's either 100% chance of getting heads OR 100% chance of getting tails in a coin toss\n",
    "#Let's say the probability of heads is 1 or the probability of tails is 1.\n",
    "\n",
    "np.random.binomial(1, 1, 1) #array for one coin toss\n",
    "                              #assigning 1 for heads or for tails\n",
    "    \n",
    "#Now let's see how many heads we get when we flip the coin 100 times\n",
    "\n",
    "np.random.binomial(100, 1, 1)\n",
    "\n",
    "import matplotlib.pyplot as plt\n",
    "import seaborn as sns\n",
    "\n",
    "results = np.random.binomial(100, 1, 1000)\n",
    "print(results)\n",
    "sns.distplot(results)#100 coin tosses, 1 probability for heads, repeated 1000 times\n",
    "\n",
    "plt.ylabel(\"% Probability\")\n",
    "plt.title(\"Occurences of Heads in a Coin Toss of 100 Tosses\")\n",
    "plt.xlabel('Number of Coin Tosses')\n",
    "plt.grid(True)\n",
    "plt.show()"
   ]
  },
  {
   "cell_type": "markdown",
   "metadata": {},
   "source": [
    "Task 4: \n",
    "Simpson’s paradox is a well-known statistical paradox where a trend evident in a number of groups reverses when the groups are combined into one big data set. \n",
    "\n",
    "Use numpy to create four data sets, each with an x array\n",
    "and a corresponding y array, to demonstrate Simpson’s paradox. \n",
    "\n",
    "You might create your x arrays using numpy.linspace and create the y array for each\n",
    "x using notation like y = a * x + b where you choose the a and b for each\n",
    "x , y pair to demonstrate the paradox. "
   ]
  },
  {
   "cell_type": "markdown",
   "metadata": {},
   "source": [
    "Demonstrating Simpson's Paradox without numpy.linspace:"
   ]
  },
  {
   "cell_type": "code",
   "execution_count": 1,
   "metadata": {},
   "outputs": [
    {
     "name": "stdout",
     "output_type": "stream",
     "text": [
      "0.56\n",
      "0.56\n"
     ]
    }
   ],
   "source": [
    "#Using data from an example at brilliant.org ref:[11,12] concerning preference of  driving manual vs automatic transmission cars\n",
    "#The data for was transmission type was divided by age group.\n",
    "#My preditction based on initial reading of the data was that automatic transmission was preferred.\n",
    "\n",
    "automatic_16_to_21 = [ 90, 100 ]    #automatic transmission data by age group\n",
    "automatic_22_to_30 = [ 120, 200 ]\n",
    "automatic_31_to_50 = [ 150, 300]\n",
    "automatic_51_and_higher = [ 200, 400 ]\n",
    "\n",
    "automatic_totals = [a + b + c + d for a,b,c,d in zip(automatic_16_to_21, automatic_22_to_30, automatic_31_to_50, automatic_51_and_higher)]\n",
    "automatic_percentage = automatic_totals[0] / automatic_totals[1]\n",
    "print(automatic_percentage) #result automatic transmission\n",
    "\n",
    "manual_16_to_21 = [ 320, 400 ]   #Manual transmission data by age group\n",
    "manual_22_to_30 = [ 120 , 300 ]\n",
    "manual_31_to_50 = [ 80, 200 ]\n",
    "manual_51_and_higher = [ 40, 100 ]\n",
    "\n",
    "manual_totals = [a + b + c + d for a,b,c,d in zip(manual_16_to_21, manual_22_to_30, manual_31_to_50, manual_51_and_higher)]\n",
    "manual_percentage = manual_totals[0] / manual_totals[1]\n",
    "print(manual_percentage)  #result manual transmission\n",
    "\n"
   ]
  },
  {
   "cell_type": "markdown",
   "metadata": {},
   "source": [
    "Analysis: As stated above, upon initial reading of the data given, my prediction was that more people across all age groups preferred driving automatic transmission cars. The result, however, showed an equal percentage amount (56%) of people across all age groups preferred manual and automatic transmission cars. "
   ]
  },
  {
   "cell_type": "markdown",
   "metadata": {},
   "source": [
    "Attempt At Using numpy.linspace to Demonatrate Simpson's Paradox:"
   ]
  },
  {
   "cell_type": "code",
   "execution_count": 1,
   "metadata": {},
   "outputs": [
    {
     "name": "stdout",
     "output_type": "stream",
     "text": [
      "[0.43478260869565216, 0.4819277108433735, 0.48951048951048953, 0.49261083743842365]\n",
      "0.48672566371681414\n",
      "[0.20833333333333334, 0.23809523809523808, 0.24305555555555555, 0.24509803921568626]\n",
      "0.2412280701754386\n",
      "[0.1388888888888889, 0.14184397163120568, 0.14227642276422764, 0.14245014245014245]\n",
      "0.1421188630490956\n",
      "[0.09900990099009901, 0.1078167115902965, 0.10920436817472699, 0.10976948408342481]\n",
      "0.10869565217391304\n"
     ]
    },
    {
     "data": {
      "image/png": "[encoded data removed]",
      "text/plain": [
       "<Figure size 432x288 with 1 Axes>"
      ]
     },
     "metadata": {
      "needs_background": "light"
     },
     "output_type": "display_data"
    }
   ],
   "source": [
    "import matplotlib.pyplot as plt #for visualisation\n",
    "import numpy as np #for numpy.linspace function\n",
    "\n",
    "x = np.linspace(10,100,4)\n",
    "\n",
    "x1 = x\n",
    "y1 = 2 * x1 + 3\n",
    "plt.plot(x, y1, color='b', marker='o') #data set 1 #blue line on graph\n",
    "percentage_per_element_1 = [ x / y for x, y in zip(x1, y1) ] #percentage per element\n",
    "print(percentage_per_element_1)\n",
    "\n",
    "overall_average_1 = sum(x1) / sum(y1) #overall average\n",
    "print(overall_average_1)\n",
    "\n",
    "x2 = x\n",
    "y2 = 4 * x2 + 8\n",
    "plt.plot(x, y2, color='y', marker='o') #data set 2 #yellow line on graph\n",
    "percentage_per_element_2 = [ x / y for x, y in zip(x2, y2) ] #percentage per element\n",
    "print(percentage_per_element_2)\n",
    "\n",
    "overall_average_2 = sum(x2) / sum(y2) #overall average\n",
    "print(overall_average_2)\n",
    "\n",
    "x3 = x\n",
    "y3 = 7 * x3 + 2\n",
    "plt.plot(x, y3, color='g', marker='o') #data set 3 #green line on graph\n",
    "percentage_per_element_3 = [ x / y for x, y in zip(x3, y3) ] #percentage per element\n",
    "print(percentage_per_element_3)\n",
    "\n",
    "overall_average_3 = sum(x3) / sum(y3) #overall average\n",
    "print(overall_average_3)\n",
    "\n",
    "x4 = x\n",
    "y4 = 9 * x4 + 11\n",
    "plt.plot(x, y4, color='r', marker='o') #data set 4 #red line on graph\n",
    "percentage_per_element_4 = [ x / y for x, y in zip(x4, y4) ] #percentage per element\n",
    "print(percentage_per_element_4)\n",
    "\n",
    "overall_average_4 = sum(x4) / sum(y4) #overall average\n",
    "print(overall_average_4)\n",
    "\n",
    "\n",
    "\n",
    "plt.show()\n",
    "\n"
   ]
  },
  {
   "cell_type": "markdown",
   "metadata": {},
   "source": [
    "Analysis: I managed to plot out the four data sets together on the one graph using numpy.linspace and the formula you provided: y = a * x + b, and used matplotlib for visualization. The graph is showing that the numbers are moving in a positive trend.You would think that the red line is doing the best, but the average of the numbers actually tells a different story. The average of the red line numbers is only around 10%, the green line average = 14%, the yellow line average = around 24%, and the blue line average = around 49%, thus demonstrating Simpson's Paradox."
   ]
  },
  {
   "cell_type": "markdown",
   "metadata": {},
   "source": [
    "References:\n",
    "\n",
    "1) https://www.w3schools.com/python/python_functions.asp\n",
    "\n",
    "2) https://www.w3schools.com/python/python_lists.asp\n",
    "\n",
    "3) https://www.w3schools.com/python/numpy_random_binomial.asp\n",
    "\n",
    "4) https://en.wikipedia.org/wiki/Simpson%27s_paradox#:~:text=Simpson's%20paradox%2C%20which%20also%20goes,when%20these%20groups%20are%20combined.\n",
    "\n",
    "5) http://localhost:8890/notebooks/simpsons.ipynb\n",
    "\n",
    "6) https://numpy.org/doc/stable/reference/generated/numpy.linspace.html\n",
    "\n",
    "7) https://science.sciencemag.org/content/187/4175/398\n",
    "\n",
    "8) https://www.w3resource.com/numpy/array-creation/linspace.php\n",
    "\n",
    "9) https://www.w3schools.com/python/python_ml_polynomial_regression.asp\n",
    "\n",
    "10) https://www.kite.com/python/answers/how-to-add-two-lists-element-wise-in-python\n",
    "\n",
    "11) https://brilliant.org/wiki/simpsons-paradox/#:~:text=When%20aggregated%20across%20all%20of,the%20average%20tax%20rate%20increased!&text=In%20fact%2C%20one%20real%2Dworld,has%20risen%20(about%201%25).\n",
    "\n",
    "12) https://www.w3schools.com/python/python_lists.asp\n",
    "\n",
    "13) https://www.w3schools.com/python/ref_func_zip.asp\n",
    "\n",
    "14) https://stackoverflow.com/questions/18713321/element-wise-addition-of-2-lists\n",
    "\n",
    "15) https://stackoverflow.com/questions/26279903/addition-of-multiple-arrays-in-python\n",
    "\n",
    "16) https://brilliant.org/problems/whats-a-stick/\n",
    "\n",
    "17) https://numpy.org/doc/stable/reference/generated/numpy.linspace.html"
   ]
  }
 ],
 "metadata": {
  "kernelspec": {
   "display_name": "Python 3",
   "language": "python",
   "name": "python3"
  },
  "language_info": {
   "codemirror_mode": {
    "name": "ipython",
    "version": 3
   },
   "file_extension": ".py",
   "mimetype": "text/x-python",
   "name": "python",
   "nbconvert_exporter": "python",
   "pygments_lexer": "ipython3",
   "version": "3.8.3"
  }
 },
 "nbformat": 4,
 "nbformat_minor": 4
}
