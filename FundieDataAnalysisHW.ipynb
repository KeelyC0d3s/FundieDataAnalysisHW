{
 "cells": [
  {
   "cell_type": "markdown",
   "metadata": {},
   "source": [
    "Task 1: \n",
    "Write a Python function called counts that takes a list as\n",
    "input and returns a dictionary of unique items in the list as keys and the number of\n",
    "times each item appears as values. So, the input ['A', 'A', 'B', 'C', 'A']\n",
    "should have output {'A': 3, 'B': 1, 'C': 1} ."
   ]
  },
  {
   "cell_type": "code",
   "execution_count": 7,
   "metadata": {},
   "outputs": [
    {
     "name": "stdout",
     "output_type": "stream",
     "text": [
      "{'A': 3, 'B': 1, 'C': 1}\n"
     ]
    }
   ],
   "source": [
    "#First attempt: using an array and dictionary, for loop, if else statement\n",
    "array = ['A', 'A', 'B', 'C', 'A']\n",
    "dictionary = {}\n",
    "\n",
    "for element in array:\n",
    "    if element in dictionary:\n",
    "        value = dictionary.get(element)\n",
    "        newValue = value + 1\n",
    "        dictionary[element] = newValue\n",
    "    else:\n",
    "        dictionary[element] = 1\n",
    "\n",
    "print(dictionary)"
   ]
  },
  {
   "cell_type": "code",
   "execution_count": 9,
   "metadata": {},
   "outputs": [
    {
     "name": "stdout",
     "output_type": "stream",
     "text": [
      "{'Fiadh': 3, 'Jason': 1, 'Keely': 2}\n"
     ]
    }
   ],
   "source": [
    "#Second attempt: actually creating a function called 'counts', plus dictionary, for loop, if else statement\n",
    "def counts(array):\n",
    "    dictionary = {}\n",
    "\n",
    "    for element in array:\n",
    "        if element in dictionary:\n",
    "            value = dictionary.get(element)\n",
    "            newValue = value + 1\n",
    "            dictionary[element] = newValue\n",
    "        else:\n",
    "            dictionary[element] = 1\n",
    "    return dictionary\n",
    "\n",
    "result = counts([\"Fiadh\",\"Jason\",\"Keely\",\"Fiadh\",\"Keely\",\"Fiadh\"])\n",
    "print(result)"
   ]
  },
  {
   "cell_type": "markdown",
   "metadata": {},
   "source": [
    "Task 2: \n",
    "Write a Python function called dicerolls that simulates\n",
    "rolling dice. Your function should take two parameters: the number of dice k and\n",
    "the number of times to roll the dice n. The function should simulate randomly\n",
    "rolling k dice n times, keeping track of each total face value. It should then return\n",
    "a dictionary with the number of times each possible total face value occurred. "
   ]
  },
  {
   "cell_type": "code",
   "execution_count": 1,
   "metadata": {},
   "outputs": [
    {
     "name": "stdout",
     "output_type": "stream",
     "text": [
      "2\n"
     ]
    }
   ],
   "source": [
    "#Broke down problem to simplist part. Found result of rolling one dice one time.\n",
    "import random\n",
    "\n",
    "def rolldie():\n",
    "    return random.randint(1,6)\n",
    "\n",
    "print(rolldie()) "
   ]
  },
  {
   "cell_type": "code",
   "execution_count": 2,
   "metadata": {},
   "outputs": [
    {
     "name": "stdout",
     "output_type": "stream",
     "text": [
      "6\n"
     ]
    }
   ],
   "source": [
    "#Ran again to check another random number appeared.\n",
    "import random\n",
    "\n",
    "def rolldie():\n",
    "    return random.randint(1,6)\n",
    "\n",
    "print(rolldie()) "
   ]
  },
  {
   "cell_type": "code",
   "execution_count": 4,
   "metadata": {},
   "outputs": [
    {
     "name": "stdout",
     "output_type": "stream",
     "text": [
      "6\n"
     ]
    }
   ],
   "source": [
    "import random\n",
    "\n",
    "def rolldie():\n",
    "    return random.randint(1,6)\n",
    "\n",
    "def rolldice(numdice):\n",
    "    total=0\n",
    "    for x in range(numdice):\n",
    "        #print(rolldie())\n",
    "        total = total + rolldie()\n",
    "    return total\n",
    "\n",
    "print(rolldice(2)) "
   ]
  },
  {
   "cell_type": "code",
   "execution_count": 5,
   "metadata": {},
   "outputs": [
    {
     "name": "stdout",
     "output_type": "stream",
     "text": [
      "{2: 33, 3: 53, 4: 90, 5: 107, 6: 156, 7: 157, 8: 131, 9: 109, 10: 75, 11: 53, 12: 36}\n"
     ]
    }
   ],
   "source": [
    "def createdict(numdice):\n",
    "    #start = numdice * 1\n",
    "    #end = numdice * 6\n",
    "    #start = 2\n",
    "    #end = 12\n",
    "    results = {}\n",
    "    for x in range (numdice, (numdice * 6)+1):\n",
    "        results[x] = 0\n",
    "    return results\n",
    "\n",
    "def diceroll(numdice, rolls):\n",
    "    results = createdict(numdice)\n",
    "    for x in range (rolls):\n",
    "        roll = rolldice(numdice)\n",
    "        #print(roll)\n",
    "\n",
    "        if roll in results:\n",
    "            value = results.get(roll)\n",
    "            newValue = value + 1\n",
    "            results[roll] = newValue\n",
    "        #else:\n",
    "            #results[roll] = 1\n",
    "    return results\n",
    "\n",
    "\n",
    "print(diceroll(2, 1000))\n",
    "\n"
   ]
  },
  {
   "cell_type": "markdown",
   "metadata": {},
   "source": [
    "Task 3:\n",
    "Write some python code that simulates flipping a coin 100 times. Then run this code 1,000 times, keeping track\n",
    "of the number of heads in each of the 1,000 simulations. Select an appropriate\n",
    "plot to depict the resulting list of 1,000 numbers, showing that it roughly follows\n",
    "a bell-shaped curve. You should explain your work in a Markdown cell above the\n",
    "code. The numpy.random.binomial function can be used to simulate flipping a coin with a 50/50 chance of heads or tails. "
   ]
  },
  {
   "cell_type": "markdown",
   "metadata": {},
   "source": [
    "<span style=\"font-size:16px;\">__Binomial Distribution:__</span>\n",
    "\n",
    "Binomial distribution is a discrete probability distribution of a the number of successes in a sequence of n independent experiments, each asking a yes–no question.\n",
    "\n",
    "The outcome is a Boolean value where success (with probability p) or failure (with probability q = 1 − p).\n",
    "\n",
    "There are three parameters for this distribution:\n",
    "- n - number of trials.\n",
    "- p - probability of occurence of each trial\n",
    "- size - The shape of the returned array.\n",
    "\n",
    "A practical example of the Binomial Distribution function would be a coin toss, where the question would be heads or tails over a certain amount of coin tosses, and the outcome would show how often the result was either heads or tails (or success/failure)."
   ]
  },
  {
   "cell_type": "code",
   "execution_count": null,
   "metadata": {},
   "outputs": [],
   "source": [
    "#use numpy and scipy.stats to analyse coin toss\n",
    "import numpy as np\n",
    "import scipy.stats as ss\n",
    "\n",
    "#Typical coin has a head and a tail, so there's a 50% chance of getting each in a coin toss\n",
    "#Let's say the probability of heads is 0.5 and for tails is 0.5\n",
    "\n",
    "np.random.binomial(1, 0.5, 1) #array for one coin toss\n",
    "                              #assigning 1 for heads and 0 for tails\n",
    "    \n",
    "#Now let's see how many heads we get when we flip the coin 50 times\n",
    "\n",
    "np.random.binomial(50, 0.5, 1)"
   ]
  },
  {
   "cell_type": "code",
   "execution_count": null,
   "metadata": {},
   "outputs": [],
   "source": [
    "#use numpy and scipy.stats to analyse coin toss\n",
    "import numpy as np\n",
    "import scipy.stats as ss\n",
    "\n",
    "#Typical coin has a head and a tail, so there's a 50% chance of getting each in a coin toss\n",
    "#Let's say the probability of heads is 0.5 and for tails is 0.5\n",
    "\n",
    "np.random.binomial(1, 0.5, 1) #array for one coin toss\n",
    "                              #assigning 1 for heads and 0 for tails\n",
    "    \n",
    "#Now let's see how many heads we get when we flip the coin 50 times\n",
    "\n",
    "np.random.binomial(50, 0.5, 1)\n",
    "\n",
    "import matplotlib.pyplot as plt\n",
    "import seaborn as sns\n",
    "\n",
    "sns.distplot(np.random.binomial(50, 0.5, 50))#50 coin tosses, 0.5 probability for heads, repeated 50 times\n",
    "\n",
    "plt.ylabel(\"% Probability\")\n",
    "plt.title(\"Occurences of Heads in a Coin Toss of 50 Tosses\")\n",
    "plt.xlabel('Number of Coin Tosses')\n",
    "plt.grid(True)\n",
    "plt.show()"
   ]
  }
 ],
 "metadata": {
  "kernelspec": {
   "display_name": "Python 3",
   "language": "python",
   "name": "python3"
  },
  "language_info": {
   "codemirror_mode": {
    "name": "ipython",
    "version": 3
   },
   "file_extension": ".py",
   "mimetype": "text/x-python",
   "name": "python",
   "nbconvert_exporter": "python",
   "pygments_lexer": "ipython3",
   "version": "3.8.3"
  }
 },
 "nbformat": 4,
 "nbformat_minor": 4
}
