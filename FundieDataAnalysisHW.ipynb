{
 "cells": [
  {
   "cell_type": "markdown",
   "metadata": {},
   "source": [
    "Task 1: Write a Python function called counts that takes a list as\n",
    "input and returns a dictionary of unique items in the list as keys and the number of\n",
    "times each item appears as values. So, the input ['A', 'A', 'B', 'C', 'A']\n",
    "should have output {'A': 3, 'B': 1, 'C': 1} ."
   ]
  },
  {
   "cell_type": "code",
   "execution_count": 7,
   "metadata": {},
   "outputs": [
    {
     "name": "stdout",
     "output_type": "stream",
     "text": [
      "{'A': 3, 'B': 1, 'C': 1}\n"
     ]
    }
   ],
   "source": [
    "#First attempt: using an array and dictionary, for loop, if else statement\n",
    "array = ['A', 'A', 'B', 'C', 'A']\n",
    "dictionary = {}\n",
    "\n",
    "for element in array:\n",
    "    if element in dictionary:\n",
    "        value = dictionary.get(element)\n",
    "        newValue = value + 1\n",
    "        dictionary[element] = newValue\n",
    "    else:\n",
    "        dictionary[element] = 1\n",
    "\n",
    "print(dictionary)"
   ]
  },
  {
   "cell_type": "code",
   "execution_count": 9,
   "metadata": {},
   "outputs": [
    {
     "name": "stdout",
     "output_type": "stream",
     "text": [
      "{'Fiadh': 3, 'Jason': 1, 'Keely': 2}\n"
     ]
    }
   ],
   "source": [
    "#Second attempt: actually creating a function called 'counts', plus dictionary, for loop, if else statement\n",
    "def counts(array):\n",
    "    dictionary = {}\n",
    "\n",
    "    for element in array:\n",
    "        if element in dictionary:\n",
    "            value = dictionary.get(element)\n",
    "            newValue = value + 1\n",
    "            dictionary[element] = newValue\n",
    "        else:\n",
    "            dictionary[element] = 1\n",
    "    return dictionary\n",
    "\n",
    "result = counts([\"Fiadh\",\"Jason\",\"Keely\",\"Fiadh\",\"Keely\",\"Fiadh\"])\n",
    "print(result)"
   ]
  },
  {
   "cell_type": "code",
   "execution_count": null,
   "metadata": {},
   "outputs": [],
   "source": []
  }
 ],
 "metadata": {
  "kernelspec": {
   "display_name": "Python 3",
   "language": "python",
   "name": "python3"
  },
  "language_info": {
   "codemirror_mode": {
    "name": "ipython",
    "version": 3
   },
   "file_extension": ".py",
   "mimetype": "text/x-python",
   "name": "python",
   "nbconvert_exporter": "python",
   "pygments_lexer": "ipython3",
   "version": "3.8.3"
  }
 },
 "nbformat": 4,
 "nbformat_minor": 4
}
